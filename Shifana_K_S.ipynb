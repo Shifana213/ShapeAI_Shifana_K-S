{
  "nbformat": 4,
  "nbformat_minor": 0,
  "metadata": {
    "colab": {
      "name": "Shifana K S.ipynb",
      "provenance": [],
      "collapsed_sections": []
    },
    "kernelspec": {
      "name": "python3",
      "display_name": "Python 3"
    },
    "language_info": {
      "name": "python"
    }
  },
  "cells": [
    {
      "cell_type": "code",
      "metadata": {
        "colab": {
          "base_uri": "https://localhost:8080/"
        },
        "id": "l6qNSEKM9mF6",
        "outputId": "c2084fd6-3e32-48a8-fe92-c7213f9b6f21"
      },
      "source": [
        "from keras.datasets import mnist\n",
        "\n",
        "data = mnist.load_data()"
      ],
      "execution_count": null,
      "outputs": [
        {
          "output_type": "stream",
          "text": [
            "Downloading data from https://storage.googleapis.com/tensorflow/tf-keras-datasets/mnist.npz\n",
            "11493376/11490434 [==============================] - 0s 0us/step\n"
          ],
          "name": "stdout"
        }
      ]
    },
    {
      "cell_type": "code",
      "metadata": {
        "id": "v6Y2RvIg95rU"
      },
      "source": [
        "((X_train, y_train), (X_test, y_test))= data"
      ],
      "execution_count": null,
      "outputs": []
    },
    {
      "cell_type": "code",
      "metadata": {
        "id": "GwPgJeF4-c06"
      },
      "source": [
        "X_train = X_train.reshape((X_train.shape[0],28*28)).astype('float32')\n",
        "X_test = X_test.reshape((X_test.shape[0],28*28)).astype('float32')\n",
        "  "
      ],
      "execution_count": null,
      "outputs": []
    },
    {
      "cell_type": "code",
      "metadata": {
        "id": "oWZ7XIgX_pPH"
      },
      "source": [
        "X_train = X_train / 255\n",
        "X_test = X_test / 255"
      ],
      "execution_count": null,
      "outputs": []
    },
    {
      "cell_type": "code",
      "metadata": {
        "colab": {
          "base_uri": "https://localhost:8080/"
        },
        "id": "wdxi3GFkACRj",
        "outputId": "50a50b0f-917d-4063-a724-a1d27571996e"
      },
      "source": [
        "from keras.utils import np_utils\n",
        "\n",
        "print(y_test.shape)\n",
        "\n",
        "y_train = np_utils.to_categorical(y_train)\n",
        "y_test = np_utils.to_categorical(y_test)\n",
        "\n",
        "num_classes = y_test.shape[1]\n",
        "print(y_test.shape)\n",
        "                                                           "
      ],
      "execution_count": null,
      "outputs": [
        {
          "output_type": "stream",
          "text": [
            "(10000,)\n",
            "(10000, 10)\n"
          ],
          "name": "stdout"
        }
      ]
    },
    {
      "cell_type": "code",
      "metadata": {
        "id": "TF0JqePKBTsM"
      },
      "source": [
        "from keras.models import Sequential\n",
        "from keras.layers import Dense"
      ],
      "execution_count": null,
      "outputs": []
    },
    {
      "cell_type": "code",
      "metadata": {
        "id": "kfVcptKvBm1f"
      },
      "source": [
        "model = Sequential()\n",
        "model.add(Dense(32, input_dim = 28*28, activation='relu'))\n",
        "model.add(Dense(64, activation='relu'))\n",
        "model.add(Dense(10, activation='softmax'))"
      ],
      "execution_count": null,
      "outputs": []
    },
    {
      "cell_type": "code",
      "metadata": {
        "id": "riLvMGnJCyH2"
      },
      "source": [
        "model.compile(loss='categorical_crossentropy', optimizer='adam',metrics=['accuracy'])"
      ],
      "execution_count": 9,
      "outputs": []
    },
    {
      "cell_type": "code",
      "metadata": {
        "colab": {
          "base_uri": "https://localhost:8080/"
        },
        "id": "kzAzM0Y7DSP1",
        "outputId": "6cd433ba-6c64-4bf6-c473-06c5934d3110"
      },
      "source": [
        "model.summary()"
      ],
      "execution_count": 10,
      "outputs": [
        {
          "output_type": "stream",
          "text": [
            "Model: \"sequential\"\n",
            "_________________________________________________________________\n",
            "Layer (type)                 Output Shape              Param #   \n",
            "=================================================================\n",
            "dense (Dense)                (None, 32)                25120     \n",
            "_________________________________________________________________\n",
            "dense_1 (Dense)              (None, 64)                2112      \n",
            "_________________________________________________________________\n",
            "dense_2 (Dense)              (None, 10)                650       \n",
            "=================================================================\n",
            "Total params: 27,882\n",
            "Trainable params: 27,882\n",
            "Non-trainable params: 0\n",
            "_________________________________________________________________\n"
          ],
          "name": "stdout"
        }
      ]
    },
    {
      "cell_type": "code",
      "metadata": {
        "colab": {
          "base_uri": "https://localhost:8080/"
        },
        "id": "3_uQC3lgDmG0",
        "outputId": "640050a7-7151-4401-8651-9465a88eb811"
      },
      "source": [
        "model.fit(X_train, y_train, epochs=10, batch_size=100)"
      ],
      "execution_count": 11,
      "outputs": [
        {
          "output_type": "stream",
          "text": [
            "Epoch 1/10\n",
            "600/600 [==============================] - 2s 2ms/step - loss: 0.8007 - accuracy: 0.7585\n",
            "Epoch 2/10\n",
            "600/600 [==============================] - 2s 3ms/step - loss: 0.1972 - accuracy: 0.9418\n",
            "Epoch 3/10\n",
            "600/600 [==============================] - 2s 3ms/step - loss: 0.1564 - accuracy: 0.9546\n",
            "Epoch 4/10\n",
            "600/600 [==============================] - 2s 3ms/step - loss: 0.1251 - accuracy: 0.9628\n",
            "Epoch 5/10\n",
            "600/600 [==============================] - 1s 2ms/step - loss: 0.1131 - accuracy: 0.9660\n",
            "Epoch 6/10\n",
            "600/600 [==============================] - 1s 2ms/step - loss: 0.1006 - accuracy: 0.9701\n",
            "Epoch 7/10\n",
            "600/600 [==============================] - 2s 3ms/step - loss: 0.0899 - accuracy: 0.9731\n",
            "Epoch 8/10\n",
            "600/600 [==============================] - 2s 3ms/step - loss: 0.0815 - accuracy: 0.9756\n",
            "Epoch 9/10\n",
            "600/600 [==============================] - 2s 3ms/step - loss: 0.0705 - accuracy: 0.9790\n",
            "Epoch 10/10\n",
            "600/600 [==============================] - 1s 2ms/step - loss: 0.0658 - accuracy: 0.9803\n"
          ],
          "name": "stdout"
        },
        {
          "output_type": "execute_result",
          "data": {
            "text/plain": [
              "<tensorflow.python.keras.callbacks.History at 0x7f2bcf267610>"
            ]
          },
          "metadata": {
            "tags": []
          },
          "execution_count": 11
        }
      ]
    },
    {
      "cell_type": "code",
      "metadata": {
        "colab": {
          "base_uri": "https://localhost:8080/"
        },
        "id": "b1QyWtayEU4k",
        "outputId": "529dd9b1-b468-43f4-e0a0-59aa0f574d97"
      },
      "source": [
        "scores = model.evaluate(X_test, y_test)\n",
        "print(scores)"
      ],
      "execution_count": 12,
      "outputs": [
        {
          "output_type": "stream",
          "text": [
            "313/313 [==============================] - 0s 1ms/step - loss: 0.1111 - accuracy: 0.9677\n",
            "[0.11109385639429092, 0.9677000045776367]\n"
          ],
          "name": "stdout"
        }
      ]
    }
  ]
}